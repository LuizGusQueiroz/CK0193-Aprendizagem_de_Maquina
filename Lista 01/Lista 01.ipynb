{
 "cells": [
  {
   "cell_type": "code",
   "execution_count": 31,
   "id": "initial_id",
   "metadata": {
    "collapsed": true,
    "ExecuteTime": {
     "end_time": "2025-04-23T19:35:43.355239Z",
     "start_time": "2025-04-23T19:35:43.348302Z"
    }
   },
   "outputs": [],
   "source": [
    "from typing import List, Tuple, Callable\n",
    "import matplotlib.pyplot as plt\n",
    "import pandas as pd\n",
    "import numpy as np"
   ]
  },
  {
   "cell_type": "markdown",
   "source": [
    "# Questão 1"
   ],
   "metadata": {
    "collapsed": false
   },
   "id": "d92aabd62623e56d"
  },
  {
   "cell_type": "markdown",
   "source": [
    "Considere o conjunto de dados disponível em artificial1d.csv organizado em\n",
    "duas colunas, x e y. Seja um modelo de regressão linear para y^ = f(x)."
   ],
   "metadata": {
    "collapsed": false
   },
   "id": "7619745f960b0d9a"
  },
  {
   "cell_type": "code",
   "outputs": [
    {
     "data": {
      "text/plain": "           X         y\n0  -1.000000 -2.082017\n1  -0.931034 -1.326980\n2  -0.862069 -1.105598\n3  -0.793103 -0.873946\n4  -0.724138 -0.285027\n5  -0.655172 -0.431153\n6  -0.586207 -0.794754\n7  -0.517241 -0.886068\n8  -0.448276 -0.899900\n9  -0.379310 -0.861844\n10 -0.310345 -0.888052\n11 -0.241379 -1.235951\n12 -0.172414 -0.719568\n13 -0.103448 -0.452023\n14 -0.034483  0.098900\n15  0.034483  0.348970\n16  0.103448  0.097478\n17  0.172414  0.700198\n18  0.241379  1.310512\n19  0.310345  1.001776\n20  0.379310  1.003182\n21  0.448276  1.149101\n22  0.517241  1.592206\n23  0.586207  0.609090\n24  0.655172  0.594416\n25  0.724138  0.703007\n26  0.793103  0.823322\n27  0.862069  1.106464\n28  0.931034  1.422957\n29  1.000000  2.309838",
      "text/html": "<div>\n<style scoped>\n    .dataframe tbody tr th:only-of-type {\n        vertical-align: middle;\n    }\n\n    .dataframe tbody tr th {\n        vertical-align: top;\n    }\n\n    .dataframe thead th {\n        text-align: right;\n    }\n</style>\n<table border=\"1\" class=\"dataframe\">\n  <thead>\n    <tr style=\"text-align: right;\">\n      <th></th>\n      <th>X</th>\n      <th>y</th>\n    </tr>\n  </thead>\n  <tbody>\n    <tr>\n      <th>0</th>\n      <td>-1.000000</td>\n      <td>-2.082017</td>\n    </tr>\n    <tr>\n      <th>1</th>\n      <td>-0.931034</td>\n      <td>-1.326980</td>\n    </tr>\n    <tr>\n      <th>2</th>\n      <td>-0.862069</td>\n      <td>-1.105598</td>\n    </tr>\n    <tr>\n      <th>3</th>\n      <td>-0.793103</td>\n      <td>-0.873946</td>\n    </tr>\n    <tr>\n      <th>4</th>\n      <td>-0.724138</td>\n      <td>-0.285027</td>\n    </tr>\n    <tr>\n      <th>5</th>\n      <td>-0.655172</td>\n      <td>-0.431153</td>\n    </tr>\n    <tr>\n      <th>6</th>\n      <td>-0.586207</td>\n      <td>-0.794754</td>\n    </tr>\n    <tr>\n      <th>7</th>\n      <td>-0.517241</td>\n      <td>-0.886068</td>\n    </tr>\n    <tr>\n      <th>8</th>\n      <td>-0.448276</td>\n      <td>-0.899900</td>\n    </tr>\n    <tr>\n      <th>9</th>\n      <td>-0.379310</td>\n      <td>-0.861844</td>\n    </tr>\n    <tr>\n      <th>10</th>\n      <td>-0.310345</td>\n      <td>-0.888052</td>\n    </tr>\n    <tr>\n      <th>11</th>\n      <td>-0.241379</td>\n      <td>-1.235951</td>\n    </tr>\n    <tr>\n      <th>12</th>\n      <td>-0.172414</td>\n      <td>-0.719568</td>\n    </tr>\n    <tr>\n      <th>13</th>\n      <td>-0.103448</td>\n      <td>-0.452023</td>\n    </tr>\n    <tr>\n      <th>14</th>\n      <td>-0.034483</td>\n      <td>0.098900</td>\n    </tr>\n    <tr>\n      <th>15</th>\n      <td>0.034483</td>\n      <td>0.348970</td>\n    </tr>\n    <tr>\n      <th>16</th>\n      <td>0.103448</td>\n      <td>0.097478</td>\n    </tr>\n    <tr>\n      <th>17</th>\n      <td>0.172414</td>\n      <td>0.700198</td>\n    </tr>\n    <tr>\n      <th>18</th>\n      <td>0.241379</td>\n      <td>1.310512</td>\n    </tr>\n    <tr>\n      <th>19</th>\n      <td>0.310345</td>\n      <td>1.001776</td>\n    </tr>\n    <tr>\n      <th>20</th>\n      <td>0.379310</td>\n      <td>1.003182</td>\n    </tr>\n    <tr>\n      <th>21</th>\n      <td>0.448276</td>\n      <td>1.149101</td>\n    </tr>\n    <tr>\n      <th>22</th>\n      <td>0.517241</td>\n      <td>1.592206</td>\n    </tr>\n    <tr>\n      <th>23</th>\n      <td>0.586207</td>\n      <td>0.609090</td>\n    </tr>\n    <tr>\n      <th>24</th>\n      <td>0.655172</td>\n      <td>0.594416</td>\n    </tr>\n    <tr>\n      <th>25</th>\n      <td>0.724138</td>\n      <td>0.703007</td>\n    </tr>\n    <tr>\n      <th>26</th>\n      <td>0.793103</td>\n      <td>0.823322</td>\n    </tr>\n    <tr>\n      <th>27</th>\n      <td>0.862069</td>\n      <td>1.106464</td>\n    </tr>\n    <tr>\n      <th>28</th>\n      <td>0.931034</td>\n      <td>1.422957</td>\n    </tr>\n    <tr>\n      <th>29</th>\n      <td>1.000000</td>\n      <td>2.309838</td>\n    </tr>\n  </tbody>\n</table>\n</div>"
     },
     "execution_count": 73,
     "metadata": {},
     "output_type": "execute_result"
    }
   ],
   "source": [
    "df = pd.read_csv('artificial1d.csv', header=None, names=['X', 'y'])\n",
    "df"
   ],
   "metadata": {
    "collapsed": false,
    "ExecuteTime": {
     "end_time": "2025-04-23T19:40:52.003314Z",
     "start_time": "2025-04-23T19:40:51.990063Z"
    }
   },
   "id": "d3010a2097541ad8",
   "execution_count": 73
  },
  {
   "cell_type": "code",
   "outputs": [],
   "source": [
    "X = np.array(df['X'])\n",
    "y = np.array(df['y'])\n",
    "# Normalização de X.\n",
    "X = (X - np.mean(X, axis=0)) / np.std(X, axis=0)\n",
    "# Garante que X tenha 2 dimensões.\n",
    "if X.ndim == 1:\n",
    "    X = X.reshape(-1, 1)\n",
    "# X para plotagem.\n",
    "X_plot = X.flatten()"
   ],
   "metadata": {
    "collapsed": false,
    "ExecuteTime": {
     "end_time": "2025-04-23T19:40:56.603653Z",
     "start_time": "2025-04-23T19:40:56.598318Z"
    }
   },
   "id": "bc06560f1f3f2d48",
   "execution_count": 74
  },
  {
   "cell_type": "code",
   "outputs": [],
   "source": [
    "def plot_reta(w: np.ndarray, X: np.ndarray, tipo: str) -> None:\n",
    "    # Cálculo dos valores preditos.\n",
    "    y_pred = w[0] + w[1] * X\n",
    "    plt.scatter(X, y, label='Dados reais', color='blue')\n",
    "    plt.plot(X, y_pred, label='Regressão Linear', color='red')\n",
    "    plt.xlabel('X')\n",
    "    plt.ylabel('y')\n",
    "    plt.title(f'Regressão Linear ({tipo})')\n",
    "    plt.grid(True)\n",
    "    plt.tight_layout()\n",
    "    plt.show()"
   ],
   "metadata": {
    "collapsed": false,
    "ExecuteTime": {
     "end_time": "2025-04-23T19:35:43.397178Z",
     "start_time": "2025-04-23T19:35:43.388465Z"
    }
   },
   "id": "680d42118e624807",
   "execution_count": 34
  },
  {
   "cell_type": "code",
   "outputs": [],
   "source": [
    "def plot_eqm(erros: List[float]) -> None:\n",
    "    plt.plot(erros)\n",
    "    plt.title('EQM ao longo das épocas')\n",
    "    plt.xlabel('Época')\n",
    "    plt.ylabel('Erro Quadrático Médio')\n",
    "    plt.tight_layout()\n",
    "    plt.show()"
   ],
   "metadata": {
    "collapsed": false,
    "ExecuteTime": {
     "end_time": "2025-04-23T19:35:43.405831Z",
     "start_time": "2025-04-23T19:35:43.398171Z"
    }
   },
   "id": "973b90988dfdfeca",
   "execution_count": 35
  },
  {
   "cell_type": "markdown",
   "source": [
    "a) Apresente os parâmetros do modelo e o MSE (erro quadrático médio)\n",
    " obtidos pelo algoritmo OLS (mínimos quadrados ordinários). \n",
    " Plote a reta resultante sobre os dados."
   ],
   "metadata": {
    "collapsed": false
   },
   "id": "e052ba47a8b57c11"
  },
  {
   "cell_type": "code",
   "outputs": [],
   "source": [
    "def regressao_linear_ols(X: np.ndarray, y: np.ndarray) -> Tuple[np.ndarray, float]:\n",
    "    \"\"\"\n",
    "    Implementação da regressão linear pelo método dos mínimos quadrados ordinários (OLS).\n",
    "    :param X: Matriz de atributos de entrada.\n",
    "    :param y: Vetor de resultados.\n",
    "    :return: Vetor de pesos.\n",
    "    \"\"\"\n",
    "    # Está sendo utilizada a pseudoinversa para contornar casos onde X não é invertível.\n",
    "    pseudoinversa: Callable = np.linalg.pinv\n",
    "    n: int = len(y)  # Número de entradas.\n",
    "    # Adiciona uma coluna de uns em X.\n",
    "    X = np.hstack((np.ones((n, 1)), X))\n",
    "    # Cálculo dos pesos.\n",
    "    w: np.ndarray = pseudoinversa(X.T @ X) @ X.T @ y\n",
    "    y_pred: np.ndarray = X @ w  # Cálculo de y predito.\n",
    "    e: np.ndarray = y - y_pred  # Cálculo do erro.\n",
    "    # Cálculo do erro quadrático médio.\n",
    "    eqm: float = np.mean(e**2) \n",
    "    return w, eqm"
   ],
   "metadata": {
    "collapsed": false,
    "ExecuteTime": {
     "end_time": "2025-04-23T19:35:43.415228Z",
     "start_time": "2025-04-23T19:35:43.407339Z"
    }
   },
   "id": "92a3b89fcdf6b3",
   "execution_count": 36
  },
  {
   "cell_type": "code",
   "outputs": [],
   "source": [
    "w, eqm = regressao_linear_ols(X, y)"
   ],
   "metadata": {
    "collapsed": false,
    "ExecuteTime": {
     "end_time": "2025-04-23T19:35:43.424181Z",
     "start_time": "2025-04-23T19:35:43.417199Z"
    }
   },
   "id": "a2aff9b1a74e711d",
   "execution_count": 37
  },
  {
   "cell_type": "markdown",
   "source": [
    "Parâmetros obtidos:"
   ],
   "metadata": {
    "collapsed": false
   },
   "id": "70592e0aba10e22b"
  },
  {
   "cell_type": "code",
   "outputs": [
    {
     "name": "stdout",
     "output_type": "stream",
     "text": [
      "w0: 0.06761792463834022\n",
      "w1: 0.9400795351532126\n"
     ]
    }
   ],
   "source": [
    "_ = [print(f'w{i}: {w[i]}') for i in range(len(w))]"
   ],
   "metadata": {
    "collapsed": false,
    "ExecuteTime": {
     "end_time": "2025-04-23T19:35:43.434232Z",
     "start_time": "2025-04-23T19:35:43.425171Z"
    }
   },
   "id": "d7d36a7703e78752",
   "execution_count": 38
  },
  {
   "cell_type": "markdown",
   "source": [
    "Erro quadrático médio:"
   ],
   "metadata": {
    "collapsed": false
   },
   "id": "3c203bb051cd50a2"
  },
  {
   "cell_type": "code",
   "outputs": [
    {
     "name": "stdout",
     "output_type": "stream",
     "text": [
      "0.21340090132936987\n"
     ]
    }
   ],
   "source": [
    "print(eqm)"
   ],
   "metadata": {
    "collapsed": false,
    "ExecuteTime": {
     "end_time": "2025-04-23T19:35:43.443200Z",
     "start_time": "2025-04-23T19:35:43.435229Z"
    }
   },
   "id": "5004df1dee0304bc",
   "execution_count": 39
  },
  {
   "cell_type": "markdown",
   "source": [
    "Reta resultante:"
   ],
   "metadata": {
    "collapsed": false
   },
   "id": "2eb2fb9776cef1cf"
  },
  {
   "cell_type": "code",
   "outputs": [
    {
     "data": {
      "text/plain": "<Figure size 640x480 with 1 Axes>",
      "image/png": "[encoded data removed]"
     },
     "metadata": {},
     "output_type": "display_data"
    }
   ],
   "source": [
    "plot_reta(w, X_plot, 'OLS')"
   ],
   "metadata": {
    "collapsed": false,
    "ExecuteTime": {
     "end_time": "2025-04-23T19:35:43.689932Z",
     "start_time": "2025-04-23T19:35:43.449186Z"
    }
   },
   "id": "438d287f5fd947c7",
   "execution_count": 40
  },
  {
   "cell_type": "markdown",
   "source": [
    "b) Apresente os parâmetros do modelo, o MSE e a curva de\n",
    "aprendizagem obtidos pelo algoritmo GD (gradiente descendente). \n",
    "Plote a reta resultante sobre os dados."
   ],
   "metadata": {
    "collapsed": false
   },
   "id": "4b346385982127f1"
  },
  {
   "cell_type": "code",
   "outputs": [],
   "source": [
    "def regressao_linear_gd(X: np.ndarray, y: np.ndarray, alpha: float=0.01, epochs: int=1000) -> Tuple[np.ndarray, List[float]]:\n",
    "    \"\"\"\n",
    "    Implementação da regressão linear pelo método do gradiente descendente.\n",
    "    :param X: matriz de atributos de entrada.\n",
    "    :param y: vetor de resultados.\n",
    "    :param alpha: taxa de aprendizado do modelo.\n",
    "    :param epochs: total de épocas.\n",
    "    :return: vetor de pesos e lista do EQM ao longo das épocas.\n",
    "    \"\"\"\n",
    "    n: int = len(y)  # Número de entradas.\n",
    "    eqms: List[float] = []  # Erros quadráticos médios.\n",
    "    # Adiciona uma coluna de uns em X.\n",
    "    X = np.hstack((np.ones((n, 1)), X))\n",
    "    # Inicialização dos pesos.\n",
    "    w: np.ndarray = np.zeros(X.shape[1])\n",
    "    for _ in range(epochs):\n",
    "        y_pred: np.ndarray = X @ w  # Cálculo de y predito.\n",
    "        e: np.ndarray = y - y_pred  # Cálculo do erro.\n",
    "        # Cálculo do erro quadrático médio.\n",
    "        eqm: float = np.mean(e**2) \n",
    "        eqms.append(eqm)\n",
    "        # Atualização dos parâmetros.\n",
    "        w = w + (alpha/n) * (X.T @ e)\n",
    "    return w, eqms"
   ],
   "metadata": {
    "collapsed": false,
    "ExecuteTime": {
     "end_time": "2025-04-23T19:35:43.698807Z",
     "start_time": "2025-04-23T19:35:43.691924Z"
    }
   },
   "id": "a87e0b8ab5409291",
   "execution_count": 41
  },
  {
   "cell_type": "code",
   "outputs": [],
   "source": [
    "w, erros = regressao_linear_gd(X, y)"
   ],
   "metadata": {
    "collapsed": false,
    "ExecuteTime": {
     "end_time": "2025-04-23T19:35:43.726796Z",
     "start_time": "2025-04-23T19:35:43.699797Z"
    }
   },
   "id": "446128ebac4006f9",
   "execution_count": 42
  },
  {
   "cell_type": "markdown",
   "source": [
    "Parâmetros obtidos:"
   ],
   "metadata": {
    "collapsed": false
   },
   "id": "3986833435fd5082"
  },
  {
   "cell_type": "code",
   "outputs": [
    {
     "name": "stdout",
     "output_type": "stream",
     "text": [
      "w0: 0.06761500548818634\n",
      "w1: 0.9400389507470148\n"
     ]
    }
   ],
   "source": [
    "_ = [print(f'w{i}: {w[i]}') for i in range(len(w))]"
   ],
   "metadata": {
    "collapsed": false,
    "ExecuteTime": {
     "end_time": "2025-04-23T19:35:43.735191Z",
     "start_time": "2025-04-23T19:35:43.727793Z"
    }
   },
   "id": "7d114fd6c631bce3",
   "execution_count": 43
  },
  {
   "cell_type": "markdown",
   "source": [
    "Erro quadrático médio:"
   ],
   "metadata": {
    "collapsed": false
   },
   "id": "8d25f903158ff2b0"
  },
  {
   "cell_type": "code",
   "outputs": [
    {
     "name": "stdout",
     "output_type": "stream",
     "text": [
      "0.213400903018601\n"
     ]
    }
   ],
   "source": [
    "print(erros[-1])"
   ],
   "metadata": {
    "collapsed": false,
    "ExecuteTime": {
     "end_time": "2025-04-23T19:35:43.742842Z",
     "start_time": "2025-04-23T19:35:43.736180Z"
    }
   },
   "id": "61665b9bf8045839",
   "execution_count": 44
  },
  {
   "cell_type": "markdown",
   "source": [
    "Curva de aprendizagem:"
   ],
   "metadata": {
    "collapsed": false
   },
   "id": "ee9bc1ccbd32db14"
  },
  {
   "cell_type": "code",
   "outputs": [
    {
     "data": {
      "text/plain": "<Figure size 640x480 with 1 Axes>",
      "image/png": "[encoded data removed]"
     },
     "metadata": {},
     "output_type": "display_data"
    }
   ],
   "source": [
    "plot_eqm(erros)"
   ],
   "metadata": {
    "collapsed": false,
    "ExecuteTime": {
     "end_time": "2025-04-23T19:35:43.920147Z",
     "start_time": "2025-04-23T19:35:43.743832Z"
    }
   },
   "id": "5c20180dd54f5d2b",
   "execution_count": 45
  },
  {
   "cell_type": "markdown",
   "source": [
    "Reta resultante:"
   ],
   "metadata": {
    "collapsed": false
   },
   "id": "4b6cbfcc52a7e2ae"
  },
  {
   "cell_type": "code",
   "outputs": [
    {
     "data": {
      "text/plain": "<Figure size 640x480 with 1 Axes>",
      "image/png": "[encoded data removed]"
     },
     "metadata": {},
     "output_type": "display_data"
    }
   ],
   "source": [
    "plot_reta(w, X_plot, 'GD')"
   ],
   "metadata": {
    "collapsed": false,
    "ExecuteTime": {
     "end_time": "2025-04-23T19:35:44.073957Z",
     "start_time": "2025-04-23T19:35:43.921141Z"
    }
   },
   "id": "6cfed6f73512941d",
   "execution_count": 46
  },
  {
   "cell_type": "markdown",
   "source": [],
   "metadata": {
    "collapsed": false
   },
   "id": "16368259e7745811"
  },
  {
   "cell_type": "markdown",
   "source": [
    "c) Apresente os parâmetros do modelo, o MSE e a curva de aprendizagem\n",
    "obtidos pelo algoritmo SGD (gradiente descendente estocástico).\n",
    "Plote a reta resultante sobre os dados."
   ],
   "metadata": {
    "collapsed": false
   },
   "id": "32abc28d947fca06"
  },
  {
   "cell_type": "code",
   "outputs": [],
   "source": [
    "def regressao_linear_gde(X: np.ndarray, y: np.ndarray, alpha: float=0.003, epochs: int=100) -> Tuple[np.ndarray, List[float]]:\n",
    "    \"\"\"\n",
    "    Implementação da regressão linear pelo método do gradiente descendente estocástico.\n",
    "    :param X: matriz de atributos de entrada.\n",
    "    :param y: vetor de resultados.\n",
    "    :param alpha: taxa de aprendizado do modelo.\n",
    "    :param epochs: total de épocas.\n",
    "    :return: vetor de pesos e lista do EQM ao longo das épocas.\n",
    "    \"\"\"\n",
    "    n: int = len(y)  # Número de entradas.\n",
    "    eqms: List[float] = []  # Erros quadráticos médios.\n",
    "    # Adiciona uma coluna de uns em X.\n",
    "    X = np.hstack((np.ones((n, 1)), X))\n",
    "    # Inicialização dos pesos.\n",
    "    w: np.ndarray = np.zeros(X.shape[1])\n",
    "    for epoch in range(epochs):\n",
    "        idx = np.random.permutation(n)\n",
    "        # Embaralhamento de X e y.\n",
    "        X = X[idx]\n",
    "        y = y[idx]\n",
    "        for xi, yi in zip(X, y):\n",
    "            y_i_pred: np.ndarray = xi @ w  # Cálculo de yi predito.\n",
    "            e_i: np.ndarray = yi - y_i_pred  # Cálculo do erro.\n",
    "            # Atualização dos parâmetros.\n",
    "            w += alpha * xi * e_i\n",
    "            # Cálculo do erro quadrático médio.            \n",
    "            y_pred: np.ndarray = X @ w  # Cálculo de y predito.\n",
    "            e: np.ndarray = y - y_pred  # Cálculo do erro.\n",
    "            eqm: float = np.mean(e**2) \n",
    "            eqms.append(eqm)\n",
    "    return w, eqms"
   ],
   "metadata": {
    "collapsed": false,
    "ExecuteTime": {
     "end_time": "2025-04-23T19:42:44.685796Z",
     "start_time": "2025-04-23T19:42:44.679287Z"
    }
   },
   "id": "d0fd60bc07931113",
   "execution_count": 88
  },
  {
   "cell_type": "code",
   "outputs": [],
   "source": [
    "w, erros = regressao_linear_gde(X, y)"
   ],
   "metadata": {
    "collapsed": false,
    "ExecuteTime": {
     "end_time": "2025-04-23T19:42:45.022834Z",
     "start_time": "2025-04-23T19:42:44.958892Z"
    }
   },
   "id": "569bb7577d061015",
   "execution_count": 89
  },
  {
   "cell_type": "markdown",
   "source": [
    "Parâmetros obtidos:"
   ],
   "metadata": {
    "collapsed": false
   },
   "id": "309d1658b95de63a"
  },
  {
   "cell_type": "code",
   "outputs": [
    {
     "name": "stdout",
     "output_type": "stream",
     "text": [
      "w0: 0.06709591026941521\n",
      "w1: 0.9405574012497323\n"
     ]
    }
   ],
   "source": [
    "_ = [print(f'w{i}: {w[i]}') for i in range(len(w))]"
   ],
   "metadata": {
    "collapsed": false,
    "ExecuteTime": {
     "end_time": "2025-04-23T19:42:45.756319Z",
     "start_time": "2025-04-23T19:42:45.752014Z"
    }
   },
   "id": "64ba5ab2600f525a",
   "execution_count": 90
  },
  {
   "cell_type": "markdown",
   "source": [
    "Erro quadrático médio:"
   ],
   "metadata": {
    "collapsed": false
   },
   "id": "f5ca8305f92519f7"
  },
  {
   "cell_type": "code",
   "outputs": [
    {
     "name": "stdout",
     "output_type": "stream",
     "text": [
      "0.21340140218437742\n"
     ]
    }
   ],
   "source": [
    "print(erros[-1])"
   ],
   "metadata": {
    "collapsed": false,
    "ExecuteTime": {
     "end_time": "2025-04-23T19:42:46.614888Z",
     "start_time": "2025-04-23T19:42:46.609671Z"
    }
   },
   "id": "b0bcdd24cfb539ac",
   "execution_count": 91
  },
  {
   "cell_type": "markdown",
   "source": [],
   "metadata": {
    "collapsed": false
   },
   "id": "6525e10b086979ca"
  },
  {
   "cell_type": "markdown",
   "source": [
    "Curva de aprendizagem:"
   ],
   "metadata": {
    "collapsed": false
   },
   "id": "560b20d1e9f540a9"
  },
  {
   "cell_type": "code",
   "outputs": [
    {
     "data": {
      "text/plain": "<Figure size 640x480 with 1 Axes>",
      "image/png": "[encoded data removed]"
     },
     "metadata": {},
     "output_type": "display_data"
    }
   ],
   "source": [
    "plot_eqm(erros)"
   ],
   "metadata": {
    "collapsed": false,
    "ExecuteTime": {
     "end_time": "2025-04-23T19:42:49.176760Z",
     "start_time": "2025-04-23T19:42:49.057750Z"
    }
   },
   "id": "8b9252b0cc190fc0",
   "execution_count": 92
  },
  {
   "cell_type": "markdown",
   "source": [
    "Reta resultante:"
   ],
   "metadata": {
    "collapsed": false
   },
   "id": "c09800abc27d2444"
  },
  {
   "cell_type": "code",
   "outputs": [
    {
     "data": {
      "text/plain": "<Figure size 640x480 with 1 Axes>",
      "image/png": "[encoded data removed]"
     },
     "metadata": {},
     "output_type": "display_data"
    }
   ],
   "source": [
    "plot_reta(w, X_plot, 'SGD')"
   ],
   "metadata": {
    "collapsed": false,
    "ExecuteTime": {
     "end_time": "2025-04-23T19:42:23.317098Z",
     "start_time": "2025-04-23T19:42:23.145552Z"
    }
   },
   "id": "a4f8cbbbdff07265",
   "execution_count": 87
  },
  {
   "cell_type": "markdown",
   "source": [
    "# Questão 2\n",
    "Considere o conjunto de dados disponível em california.csv, organizado em 9\n",
    "colunas, sendo as 8 primeiras colunas os atributos e a última coluna a saída.\n",
    "Os 8 atributos são usados na predição da mediana de preços de casas em dis\n",
    "tritos da Califórnia na década de 1990. Maiores detalhes sobre os dados po\n",
    "dem ser conferidos em https://scikit-learn.org/stable/datasets/real_\n",
    "world.html#california-housing-dataset."
   ],
   "metadata": {
    "collapsed": false
   },
   "id": "9853122cf230d647"
  },
  {
   "cell_type": "code",
   "outputs": [
    {
     "data": {
      "text/plain": "         X1    X2        X3        X4      X5        X6     X7      X8      y\n0    4.1685  20.0  6.700637  1.178344   745.0  2.372611  38.80 -121.15  2.175\n1    2.8194  24.0  4.762500  1.020833   608.0  2.533333  36.75 -119.85  0.811\n2    2.4250  46.0  4.927711  1.018072   772.0  2.325301  36.33 -119.31  0.849\n3    3.1205  16.0  3.728477  1.101545  1260.0  2.781457  33.87 -117.99  1.740\n4    4.3889  41.0  5.741007  1.199041   837.0  2.007194  34.15 -118.40  3.804\n..      ...   ...       ...       ...     ...       ...    ...     ...    ...\n995  4.6076   6.0  4.665773  1.087578  2597.0  2.320822  33.66 -117.64  2.040\n996  5.1909  16.0  6.671779  1.003067  1037.0  3.180982  32.99 -117.09  2.014\n997  4.7308  35.0  5.666667  0.971831   601.0  2.821596  33.83 -118.37  3.534\n998  4.2788  10.0  5.375000  1.114583   282.0  2.937500  33.68 -117.35  1.250\n999  2.8036  18.0  3.274009  1.230396  3596.0  1.584141  34.10 -118.35  2.250\n\n[1000 rows x 9 columns]",
      "text/html": "<div>\n<style scoped>\n    .dataframe tbody tr th:only-of-type {\n        vertical-align: middle;\n    }\n\n    .dataframe tbody tr th {\n        vertical-align: top;\n    }\n\n    .dataframe thead th {\n        text-align: right;\n    }\n</style>\n<table border=\"1\" class=\"dataframe\">\n  <thead>\n    <tr style=\"text-align: right;\">\n      <th></th>\n      <th>X1</th>\n      <th>X2</th>\n      <th>X3</th>\n      <th>X4</th>\n      <th>X5</th>\n      <th>X6</th>\n      <th>X7</th>\n      <th>X8</th>\n      <th>y</th>\n    </tr>\n  </thead>\n  <tbody>\n    <tr>\n      <th>0</th>\n      <td>4.1685</td>\n      <td>20.0</td>\n      <td>6.700637</td>\n      <td>1.178344</td>\n      <td>745.0</td>\n      <td>2.372611</td>\n      <td>38.80</td>\n      <td>-121.15</td>\n      <td>2.175</td>\n    </tr>\n    <tr>\n      <th>1</th>\n      <td>2.8194</td>\n      <td>24.0</td>\n      <td>4.762500</td>\n      <td>1.020833</td>\n      <td>608.0</td>\n      <td>2.533333</td>\n      <td>36.75</td>\n      <td>-119.85</td>\n      <td>0.811</td>\n    </tr>\n    <tr>\n      <th>2</th>\n      <td>2.4250</td>\n      <td>46.0</td>\n      <td>4.927711</td>\n      <td>1.018072</td>\n      <td>772.0</td>\n      <td>2.325301</td>\n      <td>36.33</td>\n      <td>-119.31</td>\n      <td>0.849</td>\n    </tr>\n    <tr>\n      <th>3</th>\n      <td>3.1205</td>\n      <td>16.0</td>\n      <td>3.728477</td>\n      <td>1.101545</td>\n      <td>1260.0</td>\n      <td>2.781457</td>\n      <td>33.87</td>\n      <td>-117.99</td>\n      <td>1.740</td>\n    </tr>\n    <tr>\n      <th>4</th>\n      <td>4.3889</td>\n      <td>41.0</td>\n      <td>5.741007</td>\n      <td>1.199041</td>\n      <td>837.0</td>\n      <td>2.007194</td>\n      <td>34.15</td>\n      <td>-118.40</td>\n      <td>3.804</td>\n    </tr>\n    <tr>\n      <th>...</th>\n      <td>...</td>\n      <td>...</td>\n      <td>...</td>\n      <td>...</td>\n      <td>...</td>\n      <td>...</td>\n      <td>...</td>\n      <td>...</td>\n      <td>...</td>\n    </tr>\n    <tr>\n      <th>995</th>\n      <td>4.6076</td>\n      <td>6.0</td>\n      <td>4.665773</td>\n      <td>1.087578</td>\n      <td>2597.0</td>\n      <td>2.320822</td>\n      <td>33.66</td>\n      <td>-117.64</td>\n      <td>2.040</td>\n    </tr>\n    <tr>\n      <th>996</th>\n      <td>5.1909</td>\n      <td>16.0</td>\n      <td>6.671779</td>\n      <td>1.003067</td>\n      <td>1037.0</td>\n      <td>3.180982</td>\n      <td>32.99</td>\n      <td>-117.09</td>\n      <td>2.014</td>\n    </tr>\n    <tr>\n      <th>997</th>\n      <td>4.7308</td>\n      <td>35.0</td>\n      <td>5.666667</td>\n      <td>0.971831</td>\n      <td>601.0</td>\n      <td>2.821596</td>\n      <td>33.83</td>\n      <td>-118.37</td>\n      <td>3.534</td>\n    </tr>\n    <tr>\n      <th>998</th>\n      <td>4.2788</td>\n      <td>10.0</td>\n      <td>5.375000</td>\n      <td>1.114583</td>\n      <td>282.0</td>\n      <td>2.937500</td>\n      <td>33.68</td>\n      <td>-117.35</td>\n      <td>1.250</td>\n    </tr>\n    <tr>\n      <th>999</th>\n      <td>2.8036</td>\n      <td>18.0</td>\n      <td>3.274009</td>\n      <td>1.230396</td>\n      <td>3596.0</td>\n      <td>1.584141</td>\n      <td>34.10</td>\n      <td>-118.35</td>\n      <td>2.250</td>\n    </tr>\n  </tbody>\n</table>\n<p>1000 rows × 9 columns</p>\n</div>"
     },
     "execution_count": 54,
     "metadata": {},
     "output_type": "execute_result"
    }
   ],
   "source": [
    "names = [f'X{i}' for i in range(1, 9)] + ['y']\n",
    "df = pd.read_csv('california.csv', header=None, names=names)\n",
    "df"
   ],
   "metadata": {
    "collapsed": false,
    "ExecuteTime": {
     "end_time": "2025-04-23T19:35:45.074718Z",
     "start_time": "2025-04-23T19:35:45.044718Z"
    }
   },
   "id": "402dd57f50270f21",
   "execution_count": 54
  },
  {
   "cell_type": "code",
   "outputs": [],
   "source": [
    "X = np.array(df[[f'X{i}' for i in range(1, 9)]])\n",
    "y = np.array(df['y'])\n",
    "# Normalização de X.\n",
    "X = (X - np.mean(X, axis=0)) / np.std(X, axis=0)\n",
    "# Garante que X tenha 2 dimensões.\n",
    "# if X.ndim == 1:\n",
    "# #     X = X.reshape(-1, 1)\n",
    "# # X para plotagem.\n",
    "# X_plot = X.flatten()"
   ],
   "metadata": {
    "collapsed": false,
    "ExecuteTime": {
     "end_time": "2025-04-23T19:35:45.082500Z",
     "start_time": "2025-04-23T19:35:45.075713Z"
    }
   },
   "id": "f3fecbc36e7af1c0",
   "execution_count": 55
  },
  {
   "cell_type": "markdown",
   "source": [
    "a) Aleatoriamente, divida o conjunto de dados em treino (80%) e teste (20%)."
   ],
   "metadata": {
    "collapsed": false
   },
   "id": "491d073c8e54dbf3"
  },
  {
   "cell_type": "code",
   "outputs": [],
   "source": [
    "n: int = len(y)  # Número de entradas.\n",
    "idx = np.random.permutation(n)\n",
    "# Embaralhamento de X e y.\n",
    "X = X[idx]\n",
    "y = y[idx]\n",
    "# Cálculo do índice separador.\n",
    "sep = int(len(X) * 0.2)\n",
    "X_train, X_test = X[sep:], X[:sep]"
   ],
   "metadata": {
    "collapsed": false,
    "ExecuteTime": {
     "end_time": "2025-04-23T19:35:45.091749Z",
     "start_time": "2025-04-23T19:35:45.084488Z"
    }
   },
   "id": "85d154c6d7b782cd",
   "execution_count": 56
  },
  {
   "cell_type": "markdown",
   "source": [
    "b) Treine 13 modelos de regressão polinomial, com ordens de 1 a 13. \n",
    "Você pode usar o algoritmo OLS."
   ],
   "metadata": {
    "collapsed": false
   },
   "id": "900de8eb0a3902bd"
  },
  {
   "cell_type": "code",
   "outputs": [],
   "source": [
    "def regressao_polinomial(X: np.ndarray, y: np.ndarray, grau: int = 1, algoritmo: str = 'OLS', \n",
    "                         alpha: float=0.01, epochs: int=1000) -> Tuple[np.ndarray, List[float]|float]:\n",
    "    concatena: Callable = np.column_stack\n",
    "    new_X = X.copy()  # Cria uma cópia de X.\n",
    "    # Concatena as potências de X.\n",
    "    for i in range(2, grau+1):\n",
    "        new_X = concatena((new_X, X**i))\n",
    "        \n",
    "    if algoritmo == 'OLS':\n",
    "        return regressao_linear_ols(new_X, y)\n",
    "    elif algoritmo == 'GD':\n",
    "        return regressao_linear_gd(new_X, y, alpha, epochs)\n",
    "    elif algoritmo == 'GDE':\n",
    "        return regressao_linear_gde(new_X, y, alpha, epochs)\n",
    "    else:\n",
    "        raise ValueError(f'Algoritmo [{algoritmo}] não implementado.')"
   ],
   "metadata": {
    "collapsed": false,
    "ExecuteTime": {
     "end_time": "2025-04-23T19:35:45.101178Z",
     "start_time": "2025-04-23T19:35:45.092743Z"
    }
   },
   "id": "e3102c8b0db07159",
   "execution_count": 57
  },
  {
   "cell_type": "code",
   "outputs": [],
   "source": [],
   "metadata": {
    "collapsed": false,
    "ExecuteTime": {
     "end_time": "2025-04-23T19:35:45.104376Z",
     "start_time": "2025-04-23T19:35:45.102174Z"
    }
   },
   "id": "85df87642d59e692",
   "execution_count": 57
  }
 ],
 "metadata": {
  "kernelspec": {
   "display_name": "Python 3",
   "language": "python",
   "name": "python3"
  },
  "language_info": {
   "codemirror_mode": {
    "name": "ipython",
    "version": 2
   },
   "file_extension": ".py",
   "mimetype": "text/x-python",
   "name": "python",
   "nbconvert_exporter": "python",
   "pygments_lexer": "ipython2",
   "version": "2.7.6"
  }
 },
 "nbformat": 4,
 "nbformat_minor": 5
}
