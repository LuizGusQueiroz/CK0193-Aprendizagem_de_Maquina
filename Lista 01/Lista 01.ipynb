{
 "cells": [
  {
   "cell_type": "code",
   "execution_count": 1,
   "id": "initial_id",
   "metadata": {
    "collapsed": true,
    "ExecuteTime": {
     "end_time": "2025-04-22T12:21:18.215185Z",
     "start_time": "2025-04-22T12:21:17.117804Z"
    }
   },
   "outputs": [],
   "source": [
    "from typing import List, Tuple, Callable\n",
    "import matplotlib.pyplot as plt\n",
    "import pandas as pd\n",
    "import numpy as np"
   ]
  },
  {
   "cell_type": "markdown",
   "source": [
    "# Questão 1"
   ],
   "metadata": {
    "collapsed": false
   },
   "id": "d92aabd62623e56d"
  },
  {
   "cell_type": "markdown",
   "source": [
    "Considere o conjunto de dados disponível em artificial1d.csv organizado em\n",
    "duas colunas, x e y. Seja um modelo de regressão linear para y^ = f(x)."
   ],
   "metadata": {
    "collapsed": false
   },
   "id": "7619745f960b0d9a"
  },
  {
   "cell_type": "code",
   "outputs": [
    {
     "data": {
      "text/plain": "           X         y\n0  -1.000000 -2.082017\n1  -0.931034 -1.326980\n2  -0.862069 -1.105598\n3  -0.793103 -0.873946\n4  -0.724138 -0.285027\n5  -0.655172 -0.431153\n6  -0.586207 -0.794754\n7  -0.517241 -0.886068\n8  -0.448276 -0.899900\n9  -0.379310 -0.861844\n10 -0.310345 -0.888052\n11 -0.241379 -1.235951\n12 -0.172414 -0.719568\n13 -0.103448 -0.452023\n14 -0.034483  0.098900\n15  0.034483  0.348970\n16  0.103448  0.097478\n17  0.172414  0.700198\n18  0.241379  1.310512\n19  0.310345  1.001776\n20  0.379310  1.003182\n21  0.448276  1.149101\n22  0.517241  1.592206\n23  0.586207  0.609090\n24  0.655172  0.594416\n25  0.724138  0.703007\n26  0.793103  0.823322\n27  0.862069  1.106464\n28  0.931034  1.422957\n29  1.000000  2.309838",
      "text/html": "<div>\n<style scoped>\n    .dataframe tbody tr th:only-of-type {\n        vertical-align: middle;\n    }\n\n    .dataframe tbody tr th {\n        vertical-align: top;\n    }\n\n    .dataframe thead th {\n        text-align: right;\n    }\n</style>\n<table border=\"1\" class=\"dataframe\">\n  <thead>\n    <tr style=\"text-align: right;\">\n      <th></th>\n      <th>X</th>\n      <th>y</th>\n    </tr>\n  </thead>\n  <tbody>\n    <tr>\n      <th>0</th>\n      <td>-1.000000</td>\n      <td>-2.082017</td>\n    </tr>\n    <tr>\n      <th>1</th>\n      <td>-0.931034</td>\n      <td>-1.326980</td>\n    </tr>\n    <tr>\n      <th>2</th>\n      <td>-0.862069</td>\n      <td>-1.105598</td>\n    </tr>\n    <tr>\n      <th>3</th>\n      <td>-0.793103</td>\n      <td>-0.873946</td>\n    </tr>\n    <tr>\n      <th>4</th>\n      <td>-0.724138</td>\n      <td>-0.285027</td>\n    </tr>\n    <tr>\n      <th>5</th>\n      <td>-0.655172</td>\n      <td>-0.431153</td>\n    </tr>\n    <tr>\n      <th>6</th>\n      <td>-0.586207</td>\n      <td>-0.794754</td>\n    </tr>\n    <tr>\n      <th>7</th>\n      <td>-0.517241</td>\n      <td>-0.886068</td>\n    </tr>\n    <tr>\n      <th>8</th>\n      <td>-0.448276</td>\n      <td>-0.899900</td>\n    </tr>\n    <tr>\n      <th>9</th>\n      <td>-0.379310</td>\n      <td>-0.861844</td>\n    </tr>\n    <tr>\n      <th>10</th>\n      <td>-0.310345</td>\n      <td>-0.888052</td>\n    </tr>\n    <tr>\n      <th>11</th>\n      <td>-0.241379</td>\n      <td>-1.235951</td>\n    </tr>\n    <tr>\n      <th>12</th>\n      <td>-0.172414</td>\n      <td>-0.719568</td>\n    </tr>\n    <tr>\n      <th>13</th>\n      <td>-0.103448</td>\n      <td>-0.452023</td>\n    </tr>\n    <tr>\n      <th>14</th>\n      <td>-0.034483</td>\n      <td>0.098900</td>\n    </tr>\n    <tr>\n      <th>15</th>\n      <td>0.034483</td>\n      <td>0.348970</td>\n    </tr>\n    <tr>\n      <th>16</th>\n      <td>0.103448</td>\n      <td>0.097478</td>\n    </tr>\n    <tr>\n      <th>17</th>\n      <td>0.172414</td>\n      <td>0.700198</td>\n    </tr>\n    <tr>\n      <th>18</th>\n      <td>0.241379</td>\n      <td>1.310512</td>\n    </tr>\n    <tr>\n      <th>19</th>\n      <td>0.310345</td>\n      <td>1.001776</td>\n    </tr>\n    <tr>\n      <th>20</th>\n      <td>0.379310</td>\n      <td>1.003182</td>\n    </tr>\n    <tr>\n      <th>21</th>\n      <td>0.448276</td>\n      <td>1.149101</td>\n    </tr>\n    <tr>\n      <th>22</th>\n      <td>0.517241</td>\n      <td>1.592206</td>\n    </tr>\n    <tr>\n      <th>23</th>\n      <td>0.586207</td>\n      <td>0.609090</td>\n    </tr>\n    <tr>\n      <th>24</th>\n      <td>0.655172</td>\n      <td>0.594416</td>\n    </tr>\n    <tr>\n      <th>25</th>\n      <td>0.724138</td>\n      <td>0.703007</td>\n    </tr>\n    <tr>\n      <th>26</th>\n      <td>0.793103</td>\n      <td>0.823322</td>\n    </tr>\n    <tr>\n      <th>27</th>\n      <td>0.862069</td>\n      <td>1.106464</td>\n    </tr>\n    <tr>\n      <th>28</th>\n      <td>0.931034</td>\n      <td>1.422957</td>\n    </tr>\n    <tr>\n      <th>29</th>\n      <td>1.000000</td>\n      <td>2.309838</td>\n    </tr>\n  </tbody>\n</table>\n</div>"
     },
     "execution_count": 26,
     "metadata": {},
     "output_type": "execute_result"
    }
   ],
   "source": [
    "df = pd.read_csv('artificial1d.csv', header=None, names=['X', 'y'])\n",
    "df"
   ],
   "metadata": {
    "collapsed": false,
    "ExecuteTime": {
     "end_time": "2025-04-22T12:42:10.597670Z",
     "start_time": "2025-04-22T12:42:10.586033Z"
    }
   },
   "id": "d3010a2097541ad8",
   "execution_count": 26
  },
  {
   "cell_type": "code",
   "outputs": [],
   "source": [
    "X = np.array(df['X'])\n",
    "y = np.array(df['y'])\n",
    "# Normalização de X.\n",
    "X = (X - np.mean(X, axis=0)) / np.std(X, axis=0)\n",
    "# Garante que X tenha 2 dimensões.\n",
    "if X.ndim == 1:\n",
    "    X = X.reshape(-1, 1)\n",
    "# X para plotagem.\n",
    "X_plot = X.flatten()"
   ],
   "metadata": {
    "collapsed": false,
    "ExecuteTime": {
     "end_time": "2025-04-22T12:42:10.938330Z",
     "start_time": "2025-04-22T12:42:10.930505Z"
    }
   },
   "id": "bc06560f1f3f2d48",
   "execution_count": 27
  },
  {
   "cell_type": "code",
   "outputs": [],
   "source": [
    "def plot_reta(w: np.ndarray, X: np.ndarray, tipo: str) -> None:\n",
    "    # Cálculo dos valores preditos.\n",
    "    y_pred = w[0] + w[1] * X\n",
    "    plt.scatter(X, y, label='Dados reais', color='blue')\n",
    "    plt.plot(X, y_pred, label='Regressão Linear', color='red')\n",
    "    plt.xlabel('X')\n",
    "    plt.ylabel('y')\n",
    "    plt.title(f'Regressão Linear ({tipo})')\n",
    "    plt.grid(True)\n",
    "    plt.tight_layout()\n",
    "    plt.show()"
   ],
   "metadata": {
    "collapsed": false,
    "ExecuteTime": {
     "end_time": "2025-04-22T12:49:52.667492Z",
     "start_time": "2025-04-22T12:49:52.661527Z"
    }
   },
   "id": "680d42118e624807",
   "execution_count": 46
  },
  {
   "cell_type": "code",
   "outputs": [],
   "source": [
    "def plot_eqm(erros: List[float]) -> None:\n",
    "    plt.plot(erros)\n",
    "    plt.title('EQM ao longo das épocas')\n",
    "    plt.xlabel('Época')\n",
    "    plt.ylabel('Erro Quadrático Médio')\n",
    "    plt.tight_layout()\n",
    "    plt.show()"
   ],
   "metadata": {
    "collapsed": false,
    "ExecuteTime": {
     "end_time": "2025-04-22T12:52:31.865445Z",
     "start_time": "2025-04-22T12:52:31.858359Z"
    }
   },
   "id": "973b90988dfdfeca",
   "execution_count": 51
  },
  {
   "cell_type": "markdown",
   "source": [
    "a) Apresente os parâmetros do modelo e o MSE (erro quadrático médio)\n",
    " obtidos pelo algoritmo OLS (mínimos quadrados ordinários). \n",
    " Plote a reta resultante sobre os dados."
   ],
   "metadata": {
    "collapsed": false
   },
   "id": "e052ba47a8b57c11"
  },
  {
   "cell_type": "code",
   "outputs": [],
   "source": [
    "def regressao_linear_ols(X: np.ndarray, y: np.ndarray) -> Tuple[np.ndarray, float]:\n",
    "    \"\"\"\n",
    "    Implementação da regressão linear pelo método dos mínimos quadrados ordinários (OLS).\n",
    "    :param X: Matriz de atributos de entrada.\n",
    "    :param y: Vetor de resultados.\n",
    "    :return: Vetor de pesos.\n",
    "    \"\"\"\n",
    "    # Está sendo utilizada a pseudoinversa para contornar casos onde X não é invertível.\n",
    "    pseudoinversa: Callable = np.linalg.pinv\n",
    "    n: int = len(y)  # Número de entradas.\n",
    "    # Adiciona uma coluna de uns em X.\n",
    "    X = np.hstack((np.ones((n, 1)), X))\n",
    "    # Cálculo dos pesos.\n",
    "    w: np.ndarray = pseudoinversa(X.T @ X) @ X.T @ y\n",
    "    y_pred: np.ndarray = X @ w  # Cálculo de y predito.\n",
    "    e: np.ndarray = y - y_pred  # Cálculo do erro.\n",
    "    # Cálculo do erro quadrático médio.\n",
    "    eqm: float = np.mean(e**2) \n",
    "    return w, eqm"
   ],
   "metadata": {
    "collapsed": false,
    "ExecuteTime": {
     "end_time": "2025-04-22T12:42:11.869510Z",
     "start_time": "2025-04-22T12:42:11.863496Z"
    }
   },
   "id": "92a3b89fcdf6b3",
   "execution_count": 28
  },
  {
   "cell_type": "code",
   "outputs": [],
   "source": [
    "w, eqm = regressao_linear_ols(X, y)"
   ],
   "metadata": {
    "collapsed": false,
    "ExecuteTime": {
     "end_time": "2025-04-22T12:42:12.222227Z",
     "start_time": "2025-04-22T12:42:12.217797Z"
    }
   },
   "id": "a2aff9b1a74e711d",
   "execution_count": 29
  },
  {
   "cell_type": "markdown",
   "source": [
    "Parâmetros obtidos:"
   ],
   "metadata": {
    "collapsed": false
   },
   "id": "70592e0aba10e22b"
  },
  {
   "cell_type": "code",
   "outputs": [
    {
     "name": "stdout",
     "output_type": "stream",
     "text": [
      "w0: 0.06761792463834022\n",
      "w1: 0.9400795351532126\n"
     ]
    }
   ],
   "source": [
    "_ = [print(f'w{i}: {w[i]}') for i in range(len(w))]"
   ],
   "metadata": {
    "collapsed": false,
    "ExecuteTime": {
     "end_time": "2025-04-22T12:44:37.527317Z",
     "start_time": "2025-04-22T12:44:37.519171Z"
    }
   },
   "id": "d7d36a7703e78752",
   "execution_count": 37
  },
  {
   "cell_type": "markdown",
   "source": [
    "Erro quadrático médio:"
   ],
   "metadata": {
    "collapsed": false
   },
   "id": "3c203bb051cd50a2"
  },
  {
   "cell_type": "code",
   "outputs": [
    {
     "name": "stdout",
     "output_type": "stream",
     "text": [
      "0.21340090132936987\n"
     ]
    }
   ],
   "source": [
    "print(eqm)"
   ],
   "metadata": {
    "collapsed": false,
    "ExecuteTime": {
     "end_time": "2025-04-22T12:45:17.529584Z",
     "start_time": "2025-04-22T12:45:17.522422Z"
    }
   },
   "id": "5004df1dee0304bc",
   "execution_count": 41
  },
  {
   "cell_type": "markdown",
   "source": [
    "Reta resultante:"
   ],
   "metadata": {
    "collapsed": false
   },
   "id": "2eb2fb9776cef1cf"
  },
  {
   "cell_type": "code",
   "outputs": [
    {
     "data": {
      "text/plain": "<Figure size 640x480 with 1 Axes>",
      "image/png": "[encoded data removed]"
     },
     "metadata": {},
     "output_type": "display_data"
    }
   ],
   "source": [
    "plot_reta(w, X_plot, 'OLS')"
   ],
   "metadata": {
    "collapsed": false,
    "ExecuteTime": {
     "end_time": "2025-04-22T12:49:56.221355Z",
     "start_time": "2025-04-22T12:49:56.080921Z"
    }
   },
   "id": "438d287f5fd947c7",
   "execution_count": 47
  },
  {
   "cell_type": "markdown",
   "source": [
    "b) Apresente os parâmetros do modelo, o MSE e a curva de\n",
    "aprendizagem obtidos pelo algoritmo GD (gradiente descendente). \n",
    "Plote a reta resultante sobre os dados."
   ],
   "metadata": {
    "collapsed": false
   },
   "id": "4b346385982127f1"
  },
  {
   "cell_type": "code",
   "outputs": [],
   "source": [
    "def regressao_linear_gd(X: np.ndarray, y: np.ndarray, alpha: float=0.01, epochs: int=1000) -> Tuple[np.ndarray, List[float]]:\n",
    "    \"\"\"\n",
    "    Implementação da regressão linear pelo método do gradiente descendente.\n",
    "    :param X: matriz de atributos de entrada.\n",
    "    :param y: vetor de resultados.\n",
    "    :param alpha: taxa de aprendizado do modelo.\n",
    "    :param epochs: total de épocas.\n",
    "    :return: vetor de pesos e lista do EQM ao longo das épocas.\n",
    "    \"\"\"\n",
    "    n: int = len(y)  # Número de entradas.\n",
    "    eqms: List[float] = []  # Erros quadráticos médios.\n",
    "    # Adiciona uma coluna de uns em X.\n",
    "    X = np.hstack((np.ones((n, 1)), X))\n",
    "    # Inicialização dos pesos.\n",
    "    w: np.ndarray = np.zeros(X.shape[1])\n",
    "    for _ in range(epochs):\n",
    "        y_pred: np.ndarray = X @ w  # Cálculo de y predito.\n",
    "        e: np.ndarray = y - y_pred  # Cálculo do erro.\n",
    "        # Cálculo do erro quadrático médio.\n",
    "        eqm: float = np.mean(e**2) \n",
    "        eqms.append(eqm)\n",
    "        # Atualização dos parâmetros.\n",
    "        w = w + (alpha/n) * (X.T @ e)\n",
    "    return w, eqms"
   ],
   "metadata": {
    "collapsed": false,
    "ExecuteTime": {
     "end_time": "2025-04-22T12:52:39.695213Z",
     "start_time": "2025-04-22T12:52:39.688344Z"
    }
   },
   "id": "a87e0b8ab5409291",
   "execution_count": 52
  },
  {
   "cell_type": "code",
   "outputs": [],
   "source": [
    "w, erros = regressao_linear_gd(X, y)"
   ],
   "metadata": {
    "collapsed": false,
    "ExecuteTime": {
     "end_time": "2025-04-22T12:52:41.756293Z",
     "start_time": "2025-04-22T12:52:41.736754Z"
    }
   },
   "id": "446128ebac4006f9",
   "execution_count": 53
  },
  {
   "cell_type": "markdown",
   "source": [
    "Parâmetros obtidos:"
   ],
   "metadata": {
    "collapsed": false
   },
   "id": "3986833435fd5082"
  },
  {
   "cell_type": "code",
   "outputs": [
    {
     "name": "stdout",
     "output_type": "stream",
     "text": [
      "w0: 0.06761500548818634\n",
      "w1: 0.9400389507470148\n"
     ]
    }
   ],
   "source": [
    "_ = [print(f'w{i}: {w[i]}') for i in range(len(w))]"
   ],
   "metadata": {
    "collapsed": false,
    "ExecuteTime": {
     "end_time": "2025-04-22T12:53:26.774654Z",
     "start_time": "2025-04-22T12:53:26.769488Z"
    }
   },
   "id": "7d114fd6c631bce3",
   "execution_count": 55
  },
  {
   "cell_type": "markdown",
   "source": [
    "Erro quadrático médio:"
   ],
   "metadata": {
    "collapsed": false
   },
   "id": "8d25f903158ff2b0"
  },
  {
   "cell_type": "code",
   "outputs": [
    {
     "name": "stdout",
     "output_type": "stream",
     "text": [
      "0.213400903018601\n"
     ]
    }
   ],
   "source": [
    "print(erros[-1])"
   ],
   "metadata": {
    "collapsed": false,
    "ExecuteTime": {
     "end_time": "2025-04-22T12:53:56.671799Z",
     "start_time": "2025-04-22T12:53:56.666951Z"
    }
   },
   "id": "61665b9bf8045839",
   "execution_count": 57
  },
  {
   "cell_type": "markdown",
   "source": [
    "Curva de aprendizagem:"
   ],
   "metadata": {
    "collapsed": false
   },
   "id": "ee9bc1ccbd32db14"
  },
  {
   "cell_type": "code",
   "outputs": [
    {
     "data": {
      "text/plain": "<Figure size 640x480 with 1 Axes>",
      "image/png": "[encoded data removed]"
     },
     "metadata": {},
     "output_type": "display_data"
    }
   ],
   "source": [
    "plot_eqm(erros)"
   ],
   "metadata": {
    "collapsed": false,
    "ExecuteTime": {
     "end_time": "2025-04-22T12:52:47.679654Z",
     "start_time": "2025-04-22T12:52:47.546093Z"
    }
   },
   "id": "5c20180dd54f5d2b",
   "execution_count": 54
  },
  {
   "cell_type": "markdown",
   "source": [
    "Reta resultante:"
   ],
   "metadata": {
    "collapsed": false
   },
   "id": "4b6cbfcc52a7e2ae"
  },
  {
   "cell_type": "code",
   "outputs": [
    {
     "data": {
      "text/plain": "<Figure size 640x480 with 1 Axes>",
      "image/png": "[encoded data removed]"
     },
     "metadata": {},
     "output_type": "display_data"
    }
   ],
   "source": [
    "plot_reta(w, X_plot, 'GD')"
   ],
   "metadata": {
    "collapsed": false,
    "ExecuteTime": {
     "end_time": "2025-04-22T12:55:07.342491Z",
     "start_time": "2025-04-22T12:55:07.199243Z"
    }
   },
   "id": "6cfed6f73512941d",
   "execution_count": 59
  },
  {
   "cell_type": "code",
   "outputs": [],
   "source": [
    "def regressao_linear_gde(X: np.ndarray, y: np.ndarray, alpha: float=0.003, epochs: int=1000) -> Tuple[np.ndarray, List[float]]:\n",
    "    \"\"\"\n",
    "    Implementação da regressão linear pelo método do gradiente descendente estocástico.\n",
    "    :param X: matriz de atributos de entrada.\n",
    "    :param y: vetor de resultados.\n",
    "    :param alpha: taxa de aprendizado do modelo.\n",
    "    :param epochs: total de épocas.\n",
    "    :return: vetor de pesos e lista do EQM ao longo das épocas.\n",
    "    \"\"\"\n",
    "    n: int = len(y)  # Número de entradas.\n",
    "    eqms: List[float] = []  # Erros quadráticos médios.\n",
    "    # Adiciona uma coluna de uns em X.\n",
    "    X = np.hstack((np.ones((n, 1)), X))\n",
    "    # Inicialização dos pesos.\n",
    "    w: np.ndarray = np.zeros(X.shape[1])\n",
    "    for epoch in range(epochs):\n",
    "        idx = np.random.permutation(n)\n",
    "        # Embaralhamento de X e y.\n",
    "        X = X[idx]\n",
    "        y = y[idx]\n",
    "        for xi, yi in zip(X, y):\n",
    "            y_i_pred: np.ndarray = xi @ w  # Cálculo de yi predito.\n",
    "            e_i: np.ndarray = yi - y_i_pred  # Cálculo do erro.\n",
    "            # Atualização dos parâmetros.\n",
    "            w += alpha * xi * e_i\n",
    "        # Calculo dos erros totais\n",
    "        y_pred: np.ndarray = X @ w  # Cálculo de y predito.\n",
    "        e: np.ndarray = y - y_pred  # Cálculo do erro.\n",
    "        # Cálculo do erro quadrático médio.\n",
    "        eqm: float = np.mean(e**2) \n",
    "        eqms.append(eqm)\n",
    "    return w, eqms"
   ],
   "metadata": {
    "collapsed": false,
    "ExecuteTime": {
     "end_time": "2025-04-22T12:16:24.832830Z",
     "start_time": "2025-04-22T12:16:24.826142Z"
    }
   },
   "id": "d0fd60bc07931113",
   "execution_count": 28
  },
  {
   "cell_type": "code",
   "outputs": [],
   "source": [
    "w, erros = regressao_linear_gde(X, y)"
   ],
   "metadata": {
    "collapsed": false,
    "ExecuteTime": {
     "end_time": "2025-04-22T12:16:25.225357Z",
     "start_time": "2025-04-22T12:16:25.119412Z"
    }
   },
   "id": "569bb7577d061015",
   "execution_count": 29
  },
  {
   "cell_type": "code",
   "outputs": [
    {
     "data": {
      "text/plain": "<Figure size 640x480 with 1 Axes>",
      "image/png": "[encoded data removed]"
     },
     "metadata": {},
     "output_type": "display_data"
    }
   ],
   "source": [
    "plt.plot(erros)\n",
    "plt.title('EQM ao longo das épocas')\n",
    "plt.xlabel('Época')\n",
    "plt.ylabel('Erro Quadrático Médio')\n",
    "plt.tight_layout()\n",
    "plt.show()"
   ],
   "metadata": {
    "collapsed": false,
    "ExecuteTime": {
     "end_time": "2025-04-22T12:16:25.684384Z",
     "start_time": "2025-04-22T12:16:25.532295Z"
    }
   },
   "id": "50614f4ff65135f8",
   "execution_count": 30
  },
  {
   "cell_type": "code",
   "outputs": [],
   "source": [],
   "metadata": {
    "collapsed": false,
    "ExecuteTime": {
     "end_time": "2025-04-22T12:16:13.558960Z",
     "start_time": "2025-04-22T12:16:13.553665Z"
    }
   },
   "id": "a4f8cbbbdff07265",
   "execution_count": 26
  }
 ],
 "metadata": {
  "kernelspec": {
   "display_name": "Python 3",
   "language": "python",
   "name": "python3"
  },
  "language_info": {
   "codemirror_mode": {
    "name": "ipython",
    "version": 2
   },
   "file_extension": ".py",
   "mimetype": "text/x-python",
   "name": "python",
   "nbconvert_exporter": "python",
   "pygments_lexer": "ipython2",
   "version": "2.7.6"
  }
 },
 "nbformat": 4,
 "nbformat_minor": 5
}
